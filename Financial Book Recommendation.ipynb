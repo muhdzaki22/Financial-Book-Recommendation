{
 "cells": [
  {
   "cell_type": "code",
   "execution_count": 1,
   "id": "1550620f",
   "metadata": {},
   "outputs": [],
   "source": [
    "import pandas as pd\n",
    "from sklearn.feature_extraction.text import TfidfVectorizer\n",
    "from sklearn.metrics.pairwise import cosine_similarity\n",
    "from nltk.corpus import stopwords\n",
    "import re"
   ]
  },
  {
   "cell_type": "code",
   "execution_count": 2,
   "id": "07a21778",
   "metadata": {},
   "outputs": [],
   "source": [
    "bookData = pd.read_csv('dataset.csv')"
   ]
  },
  {
   "cell_type": "code",
   "execution_count": 3,
   "id": "40989b6f",
   "metadata": {},
   "outputs": [
    {
     "name": "stdout",
     "output_type": "stream",
     "text": [
      "['description', 'rating-avg', 'rating-count', 'title']\n"
     ]
    }
   ],
   "source": [
    "print(bookData.columns.tolist())"
   ]
  },
  {
   "cell_type": "code",
   "execution_count": 4,
   "id": "25a7dd8e",
   "metadata": {},
   "outputs": [
    {
     "ename": "KeyError",
     "evalue": "\"['bestsellers-rank', 'dimension-x', 'dimension-y', 'dimension-z', 'edition', 'edition-statement', 'for-ages', 'isbn10', 'isbn13', 'lang', 'publication-date', 'publication-place', 'url', 'weight', 'format', 'id', 'illustrations-note', 'image-checksum', 'image-path', 'image-url', 'imprint', 'index-date'] not found in axis\"",
     "output_type": "error",
     "traceback": [
      "\u001b[1;31m---------------------------------------------------------------------------\u001b[0m",
      "\u001b[1;31mKeyError\u001b[0m                                  Traceback (most recent call last)",
      "Cell \u001b[1;32mIn[4], line 1\u001b[0m\n\u001b[1;32m----> 1\u001b[0m \u001b[43mbookData\u001b[49m\u001b[38;5;241;43m.\u001b[39;49m\u001b[43mdrop\u001b[49m\u001b[43m(\u001b[49m\u001b[43m[\u001b[49m\u001b[38;5;124;43m'\u001b[39;49m\u001b[38;5;124;43mbestsellers-rank\u001b[39;49m\u001b[38;5;124;43m'\u001b[39;49m\u001b[43m,\u001b[49m\u001b[43m \u001b[49m\u001b[38;5;124;43m'\u001b[39;49m\u001b[38;5;124;43mdimension-x\u001b[39;49m\u001b[38;5;124;43m'\u001b[39;49m\u001b[43m,\u001b[49m\u001b[43m \u001b[49m\u001b[38;5;124;43m'\u001b[39;49m\u001b[38;5;124;43mdimension-y\u001b[39;49m\u001b[38;5;124;43m'\u001b[39;49m\u001b[43m,\u001b[49m\u001b[43m \u001b[49m\u001b[38;5;124;43m'\u001b[39;49m\u001b[38;5;124;43mdimension-z\u001b[39;49m\u001b[38;5;124;43m'\u001b[39;49m\u001b[43m,\u001b[49m\u001b[43m \u001b[49m\u001b[38;5;124;43m'\u001b[39;49m\u001b[38;5;124;43medition\u001b[39;49m\u001b[38;5;124;43m'\u001b[39;49m\u001b[43m,\u001b[49m\u001b[43m \u001b[49m\u001b[38;5;124;43m'\u001b[39;49m\u001b[38;5;124;43medition-statement\u001b[39;49m\u001b[38;5;124;43m'\u001b[39;49m\u001b[43m,\u001b[49m\u001b[43m \u001b[49m\u001b[38;5;124;43m'\u001b[39;49m\u001b[38;5;124;43mfor-ages\u001b[39;49m\u001b[38;5;124;43m'\u001b[39;49m\u001b[43m,\u001b[49m\u001b[43m \u001b[49m\u001b[38;5;124;43m'\u001b[39;49m\u001b[38;5;124;43misbn10\u001b[39;49m\u001b[38;5;124;43m'\u001b[39;49m\u001b[43m,\u001b[49m\u001b[43m \u001b[49m\u001b[38;5;124;43m'\u001b[39;49m\u001b[38;5;124;43misbn13\u001b[39;49m\u001b[38;5;124;43m'\u001b[39;49m\u001b[43m,\u001b[49m\u001b[43m \u001b[49m\u001b[38;5;124;43m'\u001b[39;49m\u001b[38;5;124;43mlang\u001b[39;49m\u001b[38;5;124;43m'\u001b[39;49m\u001b[43m,\u001b[49m\u001b[43m \u001b[49m\u001b[38;5;124;43m'\u001b[39;49m\u001b[38;5;124;43mpublication-date\u001b[39;49m\u001b[38;5;124;43m'\u001b[39;49m\u001b[43m,\u001b[49m\u001b[43m \u001b[49m\u001b[38;5;124;43m'\u001b[39;49m\u001b[38;5;124;43mpublication-place\u001b[39;49m\u001b[38;5;124;43m'\u001b[39;49m\u001b[43m,\u001b[49m\u001b[43m \u001b[49m\u001b[38;5;124;43m'\u001b[39;49m\u001b[38;5;124;43murl\u001b[39;49m\u001b[38;5;124;43m'\u001b[39;49m\u001b[43m,\u001b[49m\u001b[43m \u001b[49m\u001b[38;5;124;43m'\u001b[39;49m\u001b[38;5;124;43mweight\u001b[39;49m\u001b[38;5;124;43m'\u001b[39;49m\u001b[43m,\u001b[49m\u001b[38;5;124;43m'\u001b[39;49m\u001b[38;5;124;43mformat\u001b[39;49m\u001b[38;5;124;43m'\u001b[39;49m\u001b[43m,\u001b[49m\u001b[38;5;124;43m'\u001b[39;49m\u001b[38;5;124;43mid\u001b[39;49m\u001b[38;5;124;43m'\u001b[39;49m\u001b[43m,\u001b[49m\u001b[38;5;124;43m'\u001b[39;49m\u001b[38;5;124;43millustrations-note\u001b[39;49m\u001b[38;5;124;43m'\u001b[39;49m\u001b[43m,\u001b[49m\u001b[38;5;124;43m'\u001b[39;49m\u001b[38;5;124;43mimage-checksum\u001b[39;49m\u001b[38;5;124;43m'\u001b[39;49m\u001b[43m,\u001b[49m\u001b[38;5;124;43m'\u001b[39;49m\u001b[38;5;124;43mimage-path\u001b[39;49m\u001b[38;5;124;43m'\u001b[39;49m\u001b[43m,\u001b[49m\u001b[38;5;124;43m'\u001b[39;49m\u001b[38;5;124;43mimage-url\u001b[39;49m\u001b[38;5;124;43m'\u001b[39;49m\u001b[43m,\u001b[49m\u001b[38;5;124;43m'\u001b[39;49m\u001b[38;5;124;43mimprint\u001b[39;49m\u001b[38;5;124;43m'\u001b[39;49m\u001b[43m,\u001b[49m\u001b[38;5;124;43m'\u001b[39;49m\u001b[38;5;124;43mindex-date\u001b[39;49m\u001b[38;5;124;43m'\u001b[39;49m\u001b[43m]\u001b[49m\u001b[43m,\u001b[49m\u001b[43m \u001b[49m\u001b[43maxis\u001b[49m\u001b[38;5;241;43m=\u001b[39;49m\u001b[38;5;241;43m1\u001b[39;49m\u001b[43m,\u001b[49m\u001b[43m \u001b[49m\u001b[43minplace\u001b[49m\u001b[38;5;241;43m=\u001b[39;49m\u001b[38;5;28;43;01mTrue\u001b[39;49;00m\u001b[43m)\u001b[49m\n",
      "File \u001b[1;32m~\\AppData\\Local\\Packages\\PythonSoftwareFoundation.Python.3.11_qbz5n2kfra8p0\\LocalCache\\local-packages\\Python311\\site-packages\\pandas\\core\\frame.py:5347\u001b[0m, in \u001b[0;36mDataFrame.drop\u001b[1;34m(self, labels, axis, index, columns, level, inplace, errors)\u001b[0m\n\u001b[0;32m   5199\u001b[0m \u001b[38;5;28;01mdef\u001b[39;00m \u001b[38;5;21mdrop\u001b[39m(\n\u001b[0;32m   5200\u001b[0m     \u001b[38;5;28mself\u001b[39m,\n\u001b[0;32m   5201\u001b[0m     labels: IndexLabel \u001b[38;5;241m|\u001b[39m \u001b[38;5;28;01mNone\u001b[39;00m \u001b[38;5;241m=\u001b[39m \u001b[38;5;28;01mNone\u001b[39;00m,\n\u001b[1;32m   (...)\u001b[0m\n\u001b[0;32m   5208\u001b[0m     errors: IgnoreRaise \u001b[38;5;241m=\u001b[39m \u001b[38;5;124m\"\u001b[39m\u001b[38;5;124mraise\u001b[39m\u001b[38;5;124m\"\u001b[39m,\n\u001b[0;32m   5209\u001b[0m ) \u001b[38;5;241m-\u001b[39m\u001b[38;5;241m>\u001b[39m DataFrame \u001b[38;5;241m|\u001b[39m \u001b[38;5;28;01mNone\u001b[39;00m:\n\u001b[0;32m   5210\u001b[0m \u001b[38;5;250m    \u001b[39m\u001b[38;5;124;03m\"\"\"\u001b[39;00m\n\u001b[0;32m   5211\u001b[0m \u001b[38;5;124;03m    Drop specified labels from rows or columns.\u001b[39;00m\n\u001b[0;32m   5212\u001b[0m \n\u001b[1;32m   (...)\u001b[0m\n\u001b[0;32m   5345\u001b[0m \u001b[38;5;124;03m            weight  1.0     0.8\u001b[39;00m\n\u001b[0;32m   5346\u001b[0m \u001b[38;5;124;03m    \"\"\"\u001b[39;00m\n\u001b[1;32m-> 5347\u001b[0m     \u001b[38;5;28;01mreturn\u001b[39;00m \u001b[38;5;28;43msuper\u001b[39;49m\u001b[43m(\u001b[49m\u001b[43m)\u001b[49m\u001b[38;5;241;43m.\u001b[39;49m\u001b[43mdrop\u001b[49m\u001b[43m(\u001b[49m\n\u001b[0;32m   5348\u001b[0m \u001b[43m        \u001b[49m\u001b[43mlabels\u001b[49m\u001b[38;5;241;43m=\u001b[39;49m\u001b[43mlabels\u001b[49m\u001b[43m,\u001b[49m\n\u001b[0;32m   5349\u001b[0m \u001b[43m        \u001b[49m\u001b[43maxis\u001b[49m\u001b[38;5;241;43m=\u001b[39;49m\u001b[43maxis\u001b[49m\u001b[43m,\u001b[49m\n\u001b[0;32m   5350\u001b[0m \u001b[43m        \u001b[49m\u001b[43mindex\u001b[49m\u001b[38;5;241;43m=\u001b[39;49m\u001b[43mindex\u001b[49m\u001b[43m,\u001b[49m\n\u001b[0;32m   5351\u001b[0m \u001b[43m        \u001b[49m\u001b[43mcolumns\u001b[49m\u001b[38;5;241;43m=\u001b[39;49m\u001b[43mcolumns\u001b[49m\u001b[43m,\u001b[49m\n\u001b[0;32m   5352\u001b[0m \u001b[43m        \u001b[49m\u001b[43mlevel\u001b[49m\u001b[38;5;241;43m=\u001b[39;49m\u001b[43mlevel\u001b[49m\u001b[43m,\u001b[49m\n\u001b[0;32m   5353\u001b[0m \u001b[43m        \u001b[49m\u001b[43minplace\u001b[49m\u001b[38;5;241;43m=\u001b[39;49m\u001b[43minplace\u001b[49m\u001b[43m,\u001b[49m\n\u001b[0;32m   5354\u001b[0m \u001b[43m        \u001b[49m\u001b[43merrors\u001b[49m\u001b[38;5;241;43m=\u001b[39;49m\u001b[43merrors\u001b[49m\u001b[43m,\u001b[49m\n\u001b[0;32m   5355\u001b[0m \u001b[43m    \u001b[49m\u001b[43m)\u001b[49m\n",
      "File \u001b[1;32m~\\AppData\\Local\\Packages\\PythonSoftwareFoundation.Python.3.11_qbz5n2kfra8p0\\LocalCache\\local-packages\\Python311\\site-packages\\pandas\\core\\generic.py:4711\u001b[0m, in \u001b[0;36mNDFrame.drop\u001b[1;34m(self, labels, axis, index, columns, level, inplace, errors)\u001b[0m\n\u001b[0;32m   4709\u001b[0m \u001b[38;5;28;01mfor\u001b[39;00m axis, labels \u001b[38;5;129;01min\u001b[39;00m axes\u001b[38;5;241m.\u001b[39mitems():\n\u001b[0;32m   4710\u001b[0m     \u001b[38;5;28;01mif\u001b[39;00m labels \u001b[38;5;129;01mis\u001b[39;00m \u001b[38;5;129;01mnot\u001b[39;00m \u001b[38;5;28;01mNone\u001b[39;00m:\n\u001b[1;32m-> 4711\u001b[0m         obj \u001b[38;5;241m=\u001b[39m \u001b[43mobj\u001b[49m\u001b[38;5;241;43m.\u001b[39;49m\u001b[43m_drop_axis\u001b[49m\u001b[43m(\u001b[49m\u001b[43mlabels\u001b[49m\u001b[43m,\u001b[49m\u001b[43m \u001b[49m\u001b[43maxis\u001b[49m\u001b[43m,\u001b[49m\u001b[43m \u001b[49m\u001b[43mlevel\u001b[49m\u001b[38;5;241;43m=\u001b[39;49m\u001b[43mlevel\u001b[49m\u001b[43m,\u001b[49m\u001b[43m \u001b[49m\u001b[43merrors\u001b[49m\u001b[38;5;241;43m=\u001b[39;49m\u001b[43merrors\u001b[49m\u001b[43m)\u001b[49m\n\u001b[0;32m   4713\u001b[0m \u001b[38;5;28;01mif\u001b[39;00m inplace:\n\u001b[0;32m   4714\u001b[0m     \u001b[38;5;28mself\u001b[39m\u001b[38;5;241m.\u001b[39m_update_inplace(obj)\n",
      "File \u001b[1;32m~\\AppData\\Local\\Packages\\PythonSoftwareFoundation.Python.3.11_qbz5n2kfra8p0\\LocalCache\\local-packages\\Python311\\site-packages\\pandas\\core\\generic.py:4753\u001b[0m, in \u001b[0;36mNDFrame._drop_axis\u001b[1;34m(self, labels, axis, level, errors, only_slice)\u001b[0m\n\u001b[0;32m   4751\u001b[0m         new_axis \u001b[38;5;241m=\u001b[39m axis\u001b[38;5;241m.\u001b[39mdrop(labels, level\u001b[38;5;241m=\u001b[39mlevel, errors\u001b[38;5;241m=\u001b[39merrors)\n\u001b[0;32m   4752\u001b[0m     \u001b[38;5;28;01melse\u001b[39;00m:\n\u001b[1;32m-> 4753\u001b[0m         new_axis \u001b[38;5;241m=\u001b[39m \u001b[43maxis\u001b[49m\u001b[38;5;241;43m.\u001b[39;49m\u001b[43mdrop\u001b[49m\u001b[43m(\u001b[49m\u001b[43mlabels\u001b[49m\u001b[43m,\u001b[49m\u001b[43m \u001b[49m\u001b[43merrors\u001b[49m\u001b[38;5;241;43m=\u001b[39;49m\u001b[43merrors\u001b[49m\u001b[43m)\u001b[49m\n\u001b[0;32m   4754\u001b[0m     indexer \u001b[38;5;241m=\u001b[39m axis\u001b[38;5;241m.\u001b[39mget_indexer(new_axis)\n\u001b[0;32m   4756\u001b[0m \u001b[38;5;66;03m# Case for non-unique axis\u001b[39;00m\n\u001b[0;32m   4757\u001b[0m \u001b[38;5;28;01melse\u001b[39;00m:\n",
      "File \u001b[1;32m~\\AppData\\Local\\Packages\\PythonSoftwareFoundation.Python.3.11_qbz5n2kfra8p0\\LocalCache\\local-packages\\Python311\\site-packages\\pandas\\core\\indexes\\base.py:6992\u001b[0m, in \u001b[0;36mIndex.drop\u001b[1;34m(self, labels, errors)\u001b[0m\n\u001b[0;32m   6990\u001b[0m \u001b[38;5;28;01mif\u001b[39;00m mask\u001b[38;5;241m.\u001b[39many():\n\u001b[0;32m   6991\u001b[0m     \u001b[38;5;28;01mif\u001b[39;00m errors \u001b[38;5;241m!=\u001b[39m \u001b[38;5;124m\"\u001b[39m\u001b[38;5;124mignore\u001b[39m\u001b[38;5;124m\"\u001b[39m:\n\u001b[1;32m-> 6992\u001b[0m         \u001b[38;5;28;01mraise\u001b[39;00m \u001b[38;5;167;01mKeyError\u001b[39;00m(\u001b[38;5;124mf\u001b[39m\u001b[38;5;124m\"\u001b[39m\u001b[38;5;132;01m{\u001b[39;00mlabels[mask]\u001b[38;5;241m.\u001b[39mtolist()\u001b[38;5;132;01m}\u001b[39;00m\u001b[38;5;124m not found in axis\u001b[39m\u001b[38;5;124m\"\u001b[39m)\n\u001b[0;32m   6993\u001b[0m     indexer \u001b[38;5;241m=\u001b[39m indexer[\u001b[38;5;241m~\u001b[39mmask]\n\u001b[0;32m   6994\u001b[0m \u001b[38;5;28;01mreturn\u001b[39;00m \u001b[38;5;28mself\u001b[39m\u001b[38;5;241m.\u001b[39mdelete(indexer)\n",
      "\u001b[1;31mKeyError\u001b[0m: \"['bestsellers-rank', 'dimension-x', 'dimension-y', 'dimension-z', 'edition', 'edition-statement', 'for-ages', 'isbn10', 'isbn13', 'lang', 'publication-date', 'publication-place', 'url', 'weight', 'format', 'id', 'illustrations-note', 'image-checksum', 'image-path', 'image-url', 'imprint', 'index-date'] not found in axis\""
     ]
    }
   ],
   "source": [
    "bookData.drop(['bestsellers-rank', 'dimension-x', 'dimension-y', 'dimension-z', 'edition', 'edition-statement', 'for-ages', 'isbn10', 'isbn13', 'lang', 'publication-date', 'publication-place', 'url', 'weight','format','id','illustrations-note','image-checksum','image-path','image-url','imprint','index-date'], axis=1, inplace=True)"
   ]
  },
  {
   "cell_type": "code",
   "execution_count": null,
   "id": "ebc415c8",
   "metadata": {},
   "outputs": [
    {
     "name": "stdout",
     "output_type": "stream",
     "text": [
      "['authors', 'categories', 'description', 'rating-avg', 'rating-count', 'title']\n"
     ]
    }
   ],
   "source": [
    "print(bookData.columns.tolist())"
   ]
  },
  {
   "cell_type": "code",
   "execution_count": null,
   "id": "646dfb60",
   "metadata": {},
   "outputs": [
    {
     "name": "stdout",
     "output_type": "stream",
     "text": [
      "        authors                                     categories  \\\n",
      "0           [1]  [214, 220, 237, 2646, 2647, 2659, 2660, 2679]   \n",
      "1        [2, 3]                                    [235, 3386]   \n",
      "2           [4]                         [358, 2630, 360, 2632]   \n",
      "3  [5, 6, 7, 8]                              [377, 2978, 2980]   \n",
      "4           [9]                                   [2813, 2980]   \n",
      "5      [10, 11]                                   [1520, 1532]   \n",
      "6     [6, 7, 8]                              [377, 2978, 2980]   \n",
      "7      [12, 13]                                         [2980]   \n",
      "8          [14]                        [3223, 700, 1521, 2820]   \n",
      "9          [15]         [37, 46, 2784, 2942, 2980, 2912, 3385]   \n",
      "\n",
      "                                         description  rating-avg  \\\n",
      "0  SOLDIER FIVE is an elite soldier's explosive m...        4.03   \n",
      "1  John Moran and Carl Williams were the two bigg...        3.60   \n",
      "2  Sir Phillip knew that Eloise Bridgerton was a ...        3.88   \n",
      "3  The Third Book of General Ignorance  gathers t...        4.17   \n",
      "4  The Try Guys deliver their first book-an inspi...        3.90   \n",
      "5  When and how did the universe begin? Why are w...        4.04   \n",
      "6  Did you know that: cows moo in regional accent...        3.84   \n",
      "7  We've all had them, those pointless arguments ...        3.56   \n",
      "8  For the millions of Americans who want spiritu...        3.92   \n",
      "9  Part of the Art of Coloring series, which has ...        4.20   \n",
      "\n",
      "   rating-count                                              title  \n",
      "0         292.0  Soldier Five : The Real Truth About The Bravo ...  \n",
      "1         335.0                      Underbelly : The Gangland War  \n",
      "2       37211.0                            A Sir Phillip, Con Amor  \n",
      "3         384.0            QI: The Third Book of General Ignorance  \n",
      "4        5095.0                     The Hidden Power of F*cking Up  \n",
      "5       64647.0                                   The Grand Design  \n",
      "6        3923.0              1,227 QI Facts To Blow Your Socks Off  \n",
      "7         268.0  The 100 Most Pointless Arguments in the World ...  \n",
      "8       33806.0  Waking Up : A Guide to Spirituality Without Re...  \n",
      "9           5.0                           Art Of Coloring: Muppets  \n"
     ]
    }
   ],
   "source": [
    "print(bookData.head(10))"
   ]
  },
  {
   "cell_type": "code",
   "execution_count": null,
   "id": "439eea49",
   "metadata": {},
   "outputs": [
    {
     "data": {
      "text/plain": [
       "authors              0\n",
       "categories           0\n",
       "description      80087\n",
       "rating-avg      440130\n",
       "rating-count    440130\n",
       "title                0\n",
       "dtype: int64"
      ]
     },
     "execution_count": 21,
     "metadata": {},
     "output_type": "execute_result"
    }
   ],
   "source": [
    "bookData.isnull().sum()"
   ]
  },
  {
   "cell_type": "code",
   "execution_count": null,
   "id": "d9e44d95",
   "metadata": {},
   "outputs": [],
   "source": [
    "bookData_filtered = bookData.dropna()"
   ]
  },
  {
   "cell_type": "code",
   "execution_count": null,
   "id": "c5498bf3",
   "metadata": {},
   "outputs": [
    {
     "data": {
      "text/plain": [
       "authors         644881\n",
       "categories      644881\n",
       "description     644881\n",
       "rating-avg      644881\n",
       "rating-count    644881\n",
       "title           644881\n",
       "dtype: int64"
      ]
     },
     "execution_count": 36,
     "metadata": {},
     "output_type": "execute_result"
    }
   ],
   "source": [
    "bookData_filtered.count()"
   ]
  },
  {
   "cell_type": "code",
   "execution_count": null,
   "id": "b48fd80f",
   "metadata": {},
   "outputs": [],
   "source": [
    "bookData_filtered.to_excel(\"bookData.xlsx\")"
   ]
  },
  {
   "cell_type": "code",
   "execution_count": null,
   "id": "dc88a65d",
   "metadata": {},
   "outputs": [],
   "source": [
    "financialBookData = pd.read_excel('bookData.xlsx', 'FinancialBookData')"
   ]
  },
  {
   "cell_type": "code",
   "execution_count": null,
   "id": "b6a62d16",
   "metadata": {},
   "outputs": [
    {
     "data": {
      "text/html": [
       "<div>\n",
       "<style scoped>\n",
       "    .dataframe tbody tr th:only-of-type {\n",
       "        vertical-align: middle;\n",
       "    }\n",
       "\n",
       "    .dataframe tbody tr th {\n",
       "        vertical-align: top;\n",
       "    }\n",
       "\n",
       "    .dataframe thead th {\n",
       "        text-align: right;\n",
       "    }\n",
       "</style>\n",
       "<table border=\"1\" class=\"dataframe\">\n",
       "  <thead>\n",
       "    <tr style=\"text-align: right;\">\n",
       "      <th></th>\n",
       "      <th>description</th>\n",
       "      <th>rating-avg</th>\n",
       "      <th>rating-count</th>\n",
       "      <th>title</th>\n",
       "    </tr>\n",
       "  </thead>\n",
       "  <tbody>\n",
       "    <tr>\n",
       "      <th>0</th>\n",
       "      <td>Options traders know all about leverage, and s...</td>\n",
       "      <td>4.00</td>\n",
       "      <td>1</td>\n",
       "      <td>Options for Swing Trading : Leverage and Low R...</td>\n",
       "    </tr>\n",
       "    <tr>\n",
       "      <th>1</th>\n",
       "      <td>Chalkboards and projectors are familiar tools ...</td>\n",
       "      <td>4.04</td>\n",
       "      <td>23</td>\n",
       "      <td>Intentional Tech : Principles to Guide the Use...</td>\n",
       "    </tr>\n",
       "    <tr>\n",
       "      <th>2</th>\n",
       "      <td>Grant funding has become increasingly crucial ...</td>\n",
       "      <td>4.00</td>\n",
       "      <td>2</td>\n",
       "      <td>Grant Seeking in Higher Education : Strategies...</td>\n",
       "    </tr>\n",
       "    <tr>\n",
       "      <th>3</th>\n",
       "      <td>The consensus among educators nationwide is th...</td>\n",
       "      <td>3.50</td>\n",
       "      <td>2</td>\n",
       "      <td>Prioritizing the Common Core : Identifying Spe...</td>\n",
       "    </tr>\n",
       "    <tr>\n",
       "      <th>4</th>\n",
       "      <td>One of the most important assets you have is y...</td>\n",
       "      <td>3.87</td>\n",
       "      <td>141</td>\n",
       "      <td>Earn What You're Really Worth : Maximize Your ...</td>\n",
       "    </tr>\n",
       "    <tr>\n",
       "      <th>5</th>\n",
       "      <td>Written by a practitioner with years working i...</td>\n",
       "      <td>4.00</td>\n",
       "      <td>3</td>\n",
       "      <td>XVA Desks - A New Era for Risk Management : Un...</td>\n",
       "    </tr>\n",
       "    <tr>\n",
       "      <th>6</th>\n",
       "      <td>Businesses are not maximising their scientific...</td>\n",
       "      <td>4.67</td>\n",
       "      <td>9</td>\n",
       "      <td>Scientists in Every Boardroom : Harnessing the...</td>\n",
       "    </tr>\n",
       "    <tr>\n",
       "      <th>7</th>\n",
       "      <td>Money makes the world go round, but it doesn't...</td>\n",
       "      <td>3.41</td>\n",
       "      <td>17</td>\n",
       "      <td>Your Balanced Budget</td>\n",
       "    </tr>\n",
       "    <tr>\n",
       "      <th>8</th>\n",
       "      <td>From the author of Real Life Money and the wom...</td>\n",
       "      <td>5.00</td>\n",
       "      <td>1</td>\n",
       "      <td>The Real Life Money Journal : A practical guid...</td>\n",
       "    </tr>\n",
       "    <tr>\n",
       "      <th>9</th>\n",
       "      <td>Evidence-Based Technical Analysis examines how...</td>\n",
       "      <td>3.62</td>\n",
       "      <td>105</td>\n",
       "      <td>Evidence-Based Technical Analysis : Applying t...</td>\n",
       "    </tr>\n",
       "  </tbody>\n",
       "</table>\n",
       "</div>"
      ],
      "text/plain": [
       "                                         description  rating-avg  \\\n",
       "0  Options traders know all about leverage, and s...        4.00   \n",
       "1  Chalkboards and projectors are familiar tools ...        4.04   \n",
       "2  Grant funding has become increasingly crucial ...        4.00   \n",
       "3  The consensus among educators nationwide is th...        3.50   \n",
       "4  One of the most important assets you have is y...        3.87   \n",
       "5  Written by a practitioner with years working i...        4.00   \n",
       "6  Businesses are not maximising their scientific...        4.67   \n",
       "7  Money makes the world go round, but it doesn't...        3.41   \n",
       "8  From the author of Real Life Money and the wom...        5.00   \n",
       "9  Evidence-Based Technical Analysis examines how...        3.62   \n",
       "\n",
       "   rating-count                                              title  \n",
       "0             1  Options for Swing Trading : Leverage and Low R...  \n",
       "1            23  Intentional Tech : Principles to Guide the Use...  \n",
       "2             2  Grant Seeking in Higher Education : Strategies...  \n",
       "3             2  Prioritizing the Common Core : Identifying Spe...  \n",
       "4           141  Earn What You're Really Worth : Maximize Your ...  \n",
       "5             3  XVA Desks - A New Era for Risk Management : Un...  \n",
       "6             9  Scientists in Every Boardroom : Harnessing the...  \n",
       "7            17                               Your Balanced Budget  \n",
       "8             1  The Real Life Money Journal : A practical guid...  \n",
       "9           105  Evidence-Based Technical Analysis : Applying t...  "
      ]
     },
     "execution_count": 4,
     "metadata": {},
     "output_type": "execute_result"
    }
   ],
   "source": [
    "financialBookData.head(10)"
   ]
  },
  {
   "cell_type": "code",
   "execution_count": null,
   "id": "a29bfcf8",
   "metadata": {},
   "outputs": [
    {
     "data": {
      "text/plain": [
       "description     0\n",
       "rating-avg      0\n",
       "rating-count    0\n",
       "title           0\n",
       "dtype: int64"
      ]
     },
     "execution_count": 5,
     "metadata": {},
     "output_type": "execute_result"
    }
   ],
   "source": [
    "financialBookData.isnull().sum()"
   ]
  },
  {
   "cell_type": "code",
   "execution_count": null,
   "id": "e283b9f9",
   "metadata": {},
   "outputs": [
    {
     "name": "stdout",
     "output_type": "stream",
     "text": [
      "Enter a book title: Dora the Explorer\n"
     ]
    }
   ],
   "source": [
    "user_title = input(\"Enter a book title: \")"
   ]
  },
  {
   "cell_type": "code",
   "execution_count": null,
   "id": "e2454c90",
   "metadata": {},
   "outputs": [],
   "source": [
    "#importing stopwords to be removed from description\n",
    "english_stopwords = stopwords.words('english')"
   ]
  },
  {
   "cell_type": "code",
   "execution_count": null,
   "id": "dab13fd1",
   "metadata": {},
   "outputs": [],
   "source": [
    "# Data Preprocessing with Stopword Removal\n",
    "def preprocess_text(text):\n",
    "  \"\"\"\n",
    "  Preprocesses text data for better recommendation accuracy, including stopword removal.\n",
    "  \"\"\"\n",
    "  text = text.lower()  # Convert to lowercase\n",
    "  text = re.sub(r\"[^a-z0-9\\s]\", \"\", text)  # Remove non-alphanumeric characters\n",
    "  words = [word for word in text.split() if word not in english_stopwords]  # Remove stopwords\n",
    "  return \" \".join(words)"
   ]
  },
  {
   "cell_type": "code",
   "execution_count": null,
   "id": "ce2a7d95",
   "metadata": {},
   "outputs": [],
   "source": [
    "financialBookData['preprocessed_description'] = financialBookData['description'].apply(preprocess_text)  # Assuming descriptions are available"
   ]
  },
  {
   "cell_type": "code",
   "execution_count": null,
   "id": "f0e0e844",
   "metadata": {},
   "outputs": [
    {
     "data": {
      "text/plain": [
       "0       options traders know leverage swing traders ke...\n",
       "1       chalkboards projectors familiar tools college ...\n",
       "2       grant funding become increasingly crucial univ...\n",
       "3       consensus among educators nationwide indepth i...\n",
       "4       one important assets earning ability ability s...\n",
       "                              ...                        \n",
       "6810    highly prized ability make financial plans cer...\n",
       "6811    next boom jack w plunkett widely followed anal...\n",
       "6812    roughly year managing director international m...\n",
       "6813    man born free everywhere debta declared econom...\n",
       "6814    inequality charged topic measures income inequ...\n",
       "Name: preprocessed_description, Length: 6815, dtype: object"
      ]
     },
     "execution_count": 37,
     "metadata": {},
     "output_type": "execute_result"
    }
   ],
   "source": [
    "financialBookData['preprocessed_description']"
   ]
  },
  {
   "cell_type": "code",
   "execution_count": null,
   "id": "7ffe272c",
   "metadata": {},
   "outputs": [],
   "source": [
    "# Content-based Filtering using TF-IDF and cosine similarity\n",
    "vectorizer = TfidfVectorizer()\n",
    "tfidf_matrix = vectorizer.fit_transform(financialBookData['preprocessed_description'])\n",
    "\n",
    "user_vector = vectorizer.transform([user_title.lower()])\n",
    "cosine_similarities = cosine_similarity(user_vector, tfidf_matrix)\n",
    "content_based_scores = cosine_similarities.flatten()"
   ]
  },
  {
   "cell_type": "code",
   "execution_count": null,
   "id": "384d1fcf",
   "metadata": {},
   "outputs": [
    {
     "data": {
      "text/plain": [
       "<6815x32834 sparse matrix of type '<class 'numpy.float64'>'\n",
       "\twith 357327 stored elements in Compressed Sparse Row format>"
      ]
     },
     "execution_count": 10,
     "metadata": {},
     "output_type": "execute_result"
    }
   ],
   "source": [
    "tfidf_matrix"
   ]
  },
  {
   "cell_type": "code",
   "execution_count": null,
   "id": "4f096f53",
   "metadata": {},
   "outputs": [
    {
     "data": {
      "text/plain": [
       "<1x32834 sparse matrix of type '<class 'numpy.float64'>'\n",
       "\twith 3 stored elements in Compressed Sparse Row format>"
      ]
     },
     "execution_count": 11,
     "metadata": {},
     "output_type": "execute_result"
    }
   ],
   "source": [
    "user_vector"
   ]
  },
  {
   "cell_type": "code",
   "execution_count": null,
   "id": "cf78f16e",
   "metadata": {},
   "outputs": [
    {
     "data": {
      "text/plain": [
       "Index(['description', 'rating-avg', 'rating-count', 'title',\n",
       "       'preprocessed_description'],\n",
       "      dtype='object')"
      ]
     },
     "execution_count": 27,
     "metadata": {},
     "output_type": "execute_result"
    }
   ],
   "source": [
    "financialBookData.columns"
   ]
  },
  {
   "cell_type": "code",
   "execution_count": null,
   "id": "02db9e78",
   "metadata": {},
   "outputs": [
    {
     "data": {
      "text/plain": [
       "(6815, 5)"
      ]
     },
     "execution_count": 29,
     "metadata": {},
     "output_type": "execute_result"
    }
   ],
   "source": [
    "financialBookData.shape"
   ]
  },
  {
   "cell_type": "code",
   "execution_count": null,
   "id": "5c91c4d9",
   "metadata": {},
   "outputs": [],
   "source": [
    "rating_matrix = financialBookData.pivot_table(index='description', columns='title', values='rating-avg', aggfunc='count').fillna(0)"
   ]
  },
  {
   "cell_type": "code",
   "execution_count": null,
   "id": "201d58fd",
   "metadata": {},
   "outputs": [],
   "source": [
    "# Calculate item-to-item similarity using cosine similarity\n",
    "item_similarities = cosine_similarity(rating_matrix)"
   ]
  },
  {
   "cell_type": "code",
   "execution_count": null,
   "id": "d50d8579",
   "metadata": {},
   "outputs": [],
   "source": [
    "def get_item_sim_recommendations(user_title, item_similarities, k=5):\n",
    "  \"\"\"\n",
    "  Recommends books similar to the user-entered title based on item-to-item collaborative filtering.\n",
    "\n",
    "  Even if the user-entered title is not found, it returns recommendations based on item similarities\n",
    "  or an empty list if no title is found.\n",
    "  \"\"\"\n",
    "\n",
    "  try:\n",
    "      # Using get_loc() for potentially duplicate titles\n",
    "      user_index = financialBookData['title'].eq(user_title).idxmax()\n",
    "      similar_items = item_similarities[user_index]\n",
    "      similar_items_sorted = similar_items.argsort()[-k:]  # Sort for top k similar items\n",
    "      return financialBookData.loc[similar_items_sorted[1:]]['title'].tolist()\n",
    "\n",
    "  except KeyError:\n",
    "      print(f\"Book '{user_title}' not found in data. Returning empty recommendations.\")\n",
    "      return []\n"
   ]
  },
  {
   "cell_type": "code",
   "execution_count": null,
   "id": "b116ce9b",
   "metadata": {},
   "outputs": [],
   "source": [
    "# Hybrid Recommendation\n",
    "def get_hybrid_recommendations(user_title, alpha=0.6, beta=0.4, k=5):\n",
    "  \"\"\"\n",
    "  Calculates hybrid recommendation scores based on content-based and collaborative filtering (item-to-item).\n",
    "  \"\"\"\n",
    "  content_recommendations = financialBookData.iloc[content_based_scores.argsort()[-k:]][['title']].values.ravel()  # Top k content-based recommendations\n",
    "  collaborative_recommendations = get_item_sim_recommendations(user_title, item_similarities)  # Top k collaborative recommendations (if book found)\n",
    "\n",
    "  if collaborative_recommendations is None:\n",
    "    return content_recommendations  # Use only content-based if book not found\n",
    "  else:\n",
    "    merged_recommendations = list(content_recommendations[:4]) + \\\n",
    "                               list(collaborative_recommendations[:4])\n",
    "\n",
    "  # ... (Rest of your code to display or use recommendations)\n",
    "\n",
    "  return merged_recommendations"
   ]
  },
  {
   "cell_type": "code",
   "execution_count": null,
   "id": "77a53758",
   "metadata": {},
   "outputs": [
    {
     "name": "stdout",
     "output_type": "stream",
     "text": [
      "Hybrid Recommendations for 'Dora the Explorer':\n",
      "1. Fisher Investments on Energy\n",
      "2. The Basics of Process Improvement\n",
      "3. Mastering Elliott Wave Principle : Elementary Concepts, Wave Patterns, and Practice Exercises\n",
      "4. The Great Investors : Lessons on Investing from Master Traders\n",
      "5. The Complete Guide to Property Investing Success\n",
      "6. Instant Millionaires : The Secrets of Overnight Success\n",
      "7. The Richest Man in Babylon : Blueprint for Financial Success - Lesson 1: The Man Who Desired Much Gold & the Richest Man in Babylon Tells His Syste\n",
      "8. Options for Swing Trading : Leverage and Low Risk to Maximize Short-Term Trading\n"
     ]
    }
   ],
   "source": [
    "# Get Hybrid Recommendations\n",
    "hybrid_recommendations = get_hybrid_recommendations(user_title, item_similarities)\n",
    "\n",
    "# Print Hybrid Recommendations\n",
    "if hybrid_recommendations:\n",
    "  print(f\"Hybrid Recommendations for '{user_title}':\")\n",
    "  for i, book in enumerate(hybrid_recommendations,start=1):\n",
    "    print(f\"{i}. {book}\")\n",
    "else:\n",
    "  print(\"\\nTrying Item-to-Item Recommendations (if hybrid no result):\")\n",
    "  collab_recommendations = get_item_sim_recommendations(user_title, item_similarities)\n",
    "\n",
    "  if collab_recommendations:\n",
    "    print(f\"Item-to-Item Recommendations for '{user_title}':\")\n",
    "    for i, book in enumerate(collab_recommendations, start=1):\n",
    "        print(f\"{i}. {book}\")\n",
    "  else:\n",
    "    print(\"Book not found or no item-to-item recommendations available.\")"
   ]
  }
 ],
 "metadata": {
  "kernelspec": {
   "display_name": "Python 3 (ipykernel)",
   "language": "python",
   "name": "python3"
  },
  "language_info": {
   "codemirror_mode": {
    "name": "ipython",
    "version": 3
   },
   "file_extension": ".py",
   "mimetype": "text/x-python",
   "name": "python",
   "nbconvert_exporter": "python",
   "pygments_lexer": "ipython3",
   "version": "3.11.9"
  }
 },
 "nbformat": 4,
 "nbformat_minor": 5
}
